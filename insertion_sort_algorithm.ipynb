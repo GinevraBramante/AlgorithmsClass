{
 "cells": [
  {
   "cell_type": "markdown",
   "metadata": {},
   "source": [
    "# Insertion Sort  \n",
    "- a bit faster than bubble sort\n",
    "- starts with the second element\n",
    "- doesn't do any sorting, just moves elements to the side to insert the element we are currently looking at\n"
   ]
  },
  {
   "cell_type": "code",
   "execution_count": 1,
   "metadata": {},
   "outputs": [
    {
     "name": "stdout",
     "output_type": "stream",
     "text": [
      "[2, 3, 5, 7, 8, 9]\n"
     ]
    }
   ],
   "source": [
    "# Card Sorting Algorithm\n",
    "deck = [5, 2, 7, 9, 3, 8]\n",
    "\n",
    "i = 1\n",
    "while i < 6:\n",
    "    card = deck[i]\n",
    "    j = i - 1\n",
    "    while deck[j] > card and j >= 0:\n",
    "        deck[j + 1] = deck[j]\n",
    "        j = j - 1\n",
    "    deck[j + 1] = card \n",
    "    i = i + 1\n",
    "        \n",
    "print(deck)"
   ]
  },
  {
   "cell_type": "code",
   "execution_count": 1,
   "metadata": {},
   "outputs": [
    {
     "name": "stdout",
     "output_type": "stream",
     "text": [
      "[1, 2, 3, 5, 8, 9, 11]\n"
     ]
    }
   ],
   "source": [
    "# Card Sorting Function\n",
    "def insertion_sort(list_):\n",
    "    i = 1\n",
    "    while i < len(list_):\n",
    "        key = list_[i]  #element we are trying to put in the correct place\n",
    "        j = i - 1       #j points to the element right before i\n",
    "        while list_[j] > key and j >= 0:\n",
    "            list_[j + 1] = list_[j]\n",
    "            j = j - 1\n",
    "        list_[j + 1] = key #inserting key into it's correct place\n",
    "        i = i + 1\n",
    "        \n",
    "        \n",
    "X = [5, 3, 2, 1, 8, 9, 11]\n",
    "insertion_sort(X)\n",
    "print(X)\n",
    "        "
   ]
  }
 ],
 "metadata": {
  "kernelspec": {
   "display_name": "Python 3.9.6 64-bit",
   "language": "python",
   "name": "python3"
  },
  "language_info": {
   "codemirror_mode": {
    "name": "ipython",
    "version": 3
   },
   "file_extension": ".py",
   "mimetype": "text/x-python",
   "name": "python",
   "nbconvert_exporter": "python",
   "pygments_lexer": "ipython3",
   "version": "3.9.6"
  },
  "orig_nbformat": 4,
  "vscode": {
   "interpreter": {
    "hash": "31f2aee4e71d21fbe5cf8b01ff0e069b9275f58929596ceb00d14d90e3e16cd6"
   }
  }
 },
 "nbformat": 4,
 "nbformat_minor": 2
}
